{
 "cells": [
  {
   "cell_type": "markdown",
   "metadata": {},
   "source": [
    "# Power Generation Cycles Sensitivity Analysis Tool\n",
    "\n",
    "",
    "\n",
    "## Available Visualizations:\n",
    "\n",
    "1. Cycle Efficiency vs Power Output of the ICR and Allam cycle\n",
    "2. Hydrogen gas-turbine cycles\n",
    "3. Carbon capture cycles\n",
    "4. Carbon capture cost analysis"
   ]
  },
  {
   "cell_type": "code",
   "execution_count": null,
   "metadata": {},
   "outputs": [],
   "source": [
    "# Enable interactive matplotlib in Jupyter\n",
    "%matplotlib widget\n",
    "import warnings\n",
    "warnings.filterwarnings('ignore')\n",
    "import program.plot_settings_plain"
   ]
  },
  {
   "cell_type": "markdown",
   "metadata": {},
   "source": [
    "## Run Interactive Visualizations\n",
    "\n",
    "Choose a visualization by running one of the cells below:"
   ]
  },
  {
   "cell_type": "code",
   "execution_count": null,
   "metadata": {},
   "outputs": [],
   "source": [
    "# Visualization 1: Cycle Efficiency vs Power Output\n",
    "from program.cycle_efficiency_v_power_data import run_e_v_power_plot\n",
    "fig, ax, slider_data, legend = run_e_v_power_plot()"
   ]
  },
  {
   "cell_type": "code",
   "execution_count": null,
   "metadata": {},
   "outputs": [],
   "source": [
    "# Visualization 2: Hydrogen gas-turbine cycles\n",
    "from program.hydrogen_cycles import run_hydrogen_cycles_plot\n",
    "fig, ax, slider_data, controls, legend = run_hydrogen_cycles_plot()"
   ]
  },
  {
   "cell_type": "code",
   "execution_count": null,
   "metadata": {},
   "outputs": [],
   "source": [
    "# Visualization 3: Carbon capture cycles\n",
    "from program.CCS_cycles import run_ccs_cycles_plot\n",
    "fig, ax, slider_data, controls, legend = run_ccs_cycles_plot()"
   ]
  },
  {
   "cell_type": "code",
   "execution_count": null,
   "metadata": {},
   "outputs": [],
   "source": [
    "# Visualization 4: Carbon capture cost analysis\n",
    "from program.CCS_costs import run_ccs_costs_plot\n",
    "fig, ax, slider_data, controls, legend = run_ccs_costs_plot()"
   ]
  }
 ],
 "metadata": {
  "kernelspec": {
   "display_name": "Python 3",
   "language": "python",
   "name": "python3"
  },
  "language_info": {
   "codemirror_mode": {
    "name": "ipython",
    "version": 3
   },
   "file_extension": ".py",
   "mimetype": "text/x-python",
   "name": "python",
   "nbconvert_exporter": "python",
   "pygments_lexer": "ipython3",
   "version": "3.11.0"
  }
 },
 "nbformat": 4,
 "nbformat_minor": 4
}
